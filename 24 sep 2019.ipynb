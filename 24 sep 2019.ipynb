{
 "cells": [
  {
   "cell_type": "code",
   "execution_count": 9,
   "metadata": {},
   "outputs": [
    {
     "name": "stdout",
     "output_type": "stream",
     "text": [
      "1 10 1\n",
      "10\n"
     ]
    }
   ],
   "source": [
    "inputstr=input().split()\n",
    "str=[]\n",
    "c=0\n",
    "for data in inputstr:\n",
    "    str.append(int(data))\n",
    "l,r,k=str\n",
    "for i in range(l,r+1):\n",
    "    if i%k==0:\n",
    "        c+=1\n",
    "print(c)        "
   ]
  },
  {
   "cell_type": "code",
   "execution_count": 8,
   "metadata": {
    "scrolled": true
   },
   "outputs": [
    {
     "name": "stdout",
     "output_type": "stream",
     "text": [
      "rfr\n",
      "yes\n"
     ]
    }
   ],
   "source": [
    "my_string=input(\"\")\n",
    "if my_string==my_string[::-1]:\n",
    "    print(\"yes\")\n",
    "else:\n",
    "    print(\"no\")"
   ]
  },
  {
   "cell_type": "code",
   "execution_count": null,
   "metadata": {},
   "outputs": [],
   "source": [
    "def isprime(g)\n",
    "for num in range(g+1):\n",
    "if num>1: \n",
    "    for j in range(2,num):\n",
    "    if num%j==0:\n",
    "    break\n",
    "else:    \n",
    "    print(num)    "
   ]
  },
  {
   "cell_type": "code",
   "execution_count": null,
   "metadata": {},
   "outputs": [],
   "source": [
    "def "
   ]
  }
 ],
 "metadata": {
  "kernelspec": {
   "display_name": "Python 3",
   "language": "python",
   "name": "python3"
  },
  "language_info": {
   "codemirror_mode": {
    "name": "ipython",
    "version": 3
   },
   "file_extension": ".py",
   "mimetype": "text/x-python",
   "name": "python",
   "nbconvert_exporter": "python",
   "pygments_lexer": "ipython3",
   "version": "3.7.3"
  }
 },
 "nbformat": 4,
 "nbformat_minor": 2
}
